{
 "cells": [
  {
   "cell_type": "markdown",
   "id": "cc2999c3-9782-4946-ba03-1ad481a8a0b9",
   "metadata": {},
   "source": [
    "# A4: Final Project Preliminary Proposal"
   ]
  },
  {
   "cell_type": "markdown",
   "id": "8f928d89-acf6-4c12-ac89-c476cd91c872",
   "metadata": {},
   "source": [
    "### Motivation and problem statement:"
   ]
  },
  {
   "cell_type": "markdown",
   "id": "0f19ce2a-5326-4f86-b35c-4b45fa5e8427",
   "metadata": {},
   "source": [
    "I am planning to do analysis of how weather in Seattle affects traffic conditions because commute is an important part of daily life in Seattle. In a bustling city home to many famous companies like Amazon, Microsoft, and Boeing and schools such as the University of Washington, many workers and students have to find ways of commuting, whether by train, bus, or car. With a city heavily reliant on commuting, there comes the issue of traffic - the daily offender of what would otherwise be a smooth trip. An analysis of weather and traffic patterns would be interesting from a human-centered perspective, as it can open up findings for what would contribute traffic in the Seattle area. It would be useful to know whether weather such as sun, snow, or rain can affect traffic flow in Seattle, and based off the results, recommendations can be provided in order to adjust infrastructure to better account for weather and traffic flow. Overall, I hope to learn about trends in traffic patterns in the Seattle area in general, and what can be done to combat traffic."
   ]
  },
  {
   "cell_type": "markdown",
   "id": "38cb9445-6594-420e-992b-54d235c6ffe0",
   "metadata": {},
   "source": [
    "### Data selected for analysis: What dataset do you plan to use, and why?"
   ]
  },
  {
   "cell_type": "markdown",
   "id": "683b4fa8-20ed-4a49-8bd2-d49cc0c6827a",
   "metadata": {},
   "source": [
    "The first dataset I plan to use is the Vega seattle-weather.csv dataset. This dataset consists of 1462 rows and 6 columns. The column titles are date, precipitation, maximum temperature, minimum temperature, wind, and weather. This dataset is suitable for addressing my research goal as it gives the type of weather, temperature, and precipitation levels, all useful for gauging how severe the weather is in order to determine its effect on traffic. Ethical considerations for using this dataset is that since the dataset was derived from an NOAA data source, I'd have to be careful when citing it in my final project and give attributions in the right places.\n",
    "\n",
    "License: BSD 3-Clause \"New\" or \"Revised\" License (A permissive license similar to the BSD 2-Clause License, but with a 3rd clause that prohibits others from using the name of the copyright holder or its contributors to promote derived products without written consent.)\n",
    "\n",
    "The copyright notice for this data is written under LICENSE.\n",
    "\n",
    "Link: https://github.com/vega/vega/blob/main/docs/data/seattle-weather.csv\n",
    "\n",
    "The second dataset I plan to use is the \"Traffic Flow Map Volumes\" dataset from City of Seattle. This dataset consists of 437 rows and 7 columns. The 4 important columns are street name, location where traffic was counted, year, and average annual weekday traffic. This dataset is suitable for addressing my research goal as traffic can be analyzed by year in accordance with the weather dataset, and connections can be drawn between the two datasets based off this structure. Also, having the traffic counts is a good quantitative measure for analysis. Ethical considerations for using this dataset is the potential for some data to be skewed with higher traffic count that could be caused by accidents, which is a privacy concern as the people involved in the accidents would likely not want that information public, but it also seems like there is no mention of traffic accidents in this dataset.\n",
    "\n",
    "License: Public Domain\n",
    "Link: https://data.seattle.gov/Transportation/Traffic-Flow-Map-Volumes/38vd-gytv\n"
   ]
  },
  {
   "cell_type": "markdown",
   "id": "83853148-c092-41b6-a5d0-fbab5e8087db",
   "metadata": {},
   "source": [
    "### Unknowns and dependencies:\n",
    "A factor outside of my control that might impact my ability to complete this project is not having milestones in order to get the project done by the deadline of June 4. I will need to create a workback schedule in order to ensure I get all aspects required in my report. Other classwork may affect the amount of time I spend on this project too. Also, I am unsure if I will need to make any changes to my proposal and project plan, and will have to account time for that too."
   ]
  },
  {
   "cell_type": "markdown",
   "id": "cb8bfbf8-ed03-48fb-932d-50af2c42e4e8",
   "metadata": {},
   "source": [
    "### Research questions and hypotheses:\n",
    "These describe what you hope to discover or determine in the course of your research project.\n",
    "Example research question: what is the impact of an advanced degree on data scientist salaries over the course of their careers?\n",
    "Example hypothesis: earning an advanced degree is associated with an increase of 20% in career data scientist salaries compared to similar data scientists who do not earn an MS degree."
   ]
  },
  {
   "cell_type": "markdown",
   "id": "e0b046e7-8c83-4128-bdfa-e8c85a3cc2ed",
   "metadata": {},
   "source": [
    "### Background and related work\n",
    "What is already known about the phenomenon you are investigating? What previous research on this phenomenon (or related phenomena) has been performed, and what were the findings?\n",
    "How does previous research or background information inform your decision to perform this study, the way you designed the study, or your specific research questions you chose? Make sure to include references (endnotes and/or inline hyperlinks) to the sources of background information--whether they are websites, news articles, or peer-reviewed research."
   ]
  },
  {
   "cell_type": "markdown",
   "id": "5fbb0adf-e250-4e3b-a9dd-70eba1b52212",
   "metadata": {},
   "source": [
    "### Methodology\n",
    "Describe the analytical methods you intend to use to answer your questions. (e.g. \"ordinary least squares\", \"student's t-test\", or \"recurrent neural network\")\n",
    "Describe the method you plan to use to present your findings. Data visualizations can be useful (bar charts, dotplots, heatmaps, time series graphs), but are not appropriate to all types of data or analysis. In some cases, presenting your model output and then describing specific coefficients will be enough. In other cases, presenting your results in a table might be most appropriate.\n",
    "Explain why the methods you chose to analyze and present your data are appropriate and useful.\n",
    "You are expected to be thorough with these steps. Please describe to the best of your ability the entire series of gathering, analysis, and presentation methods you plan to use."
   ]
  }
 ],
 "metadata": {
  "kernelspec": {
   "display_name": "Python 3 (ipykernel)",
   "language": "python",
   "name": "python3"
  },
  "language_info": {
   "codemirror_mode": {
    "name": "ipython",
    "version": 3
   },
   "file_extension": ".py",
   "mimetype": "text/x-python",
   "name": "python",
   "nbconvert_exporter": "python",
   "pygments_lexer": "ipython3",
   "version": "3.9.7"
  }
 },
 "nbformat": 4,
 "nbformat_minor": 5
}
