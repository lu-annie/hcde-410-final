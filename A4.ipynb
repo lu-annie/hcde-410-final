{
 "cells": [
  {
   "cell_type": "markdown",
   "id": "cc2999c3-9782-4946-ba03-1ad481a8a0b9",
   "metadata": {},
   "source": [
    "# A4: Final Project Preliminary Proposal"
   ]
  },
  {
   "cell_type": "markdown",
   "id": "8f928d89-acf6-4c12-ac89-c476cd91c872",
   "metadata": {},
   "source": [
    "### Motivation and problem statement:"
   ]
  },
  {
   "cell_type": "markdown",
   "id": "0f19ce2a-5326-4f86-b35c-4b45fa5e8427",
   "metadata": {},
   "source": [
    "I am planning to do analysis of vegan and vegetarian restaurants and their menu items in the United States in order to investigate how well US restaurants cater to these dietary choices (as vegans and vegetarians make up only 5% of the United States. Source: https://en.wikipedia.org/wiki/Vegetarianism_by_country). Many people choose to eliminate meat, eggs, and dairy from their diets due to religious, ethical, health reasons, and more. With the rise of products such as mock meats and dairy-free alternatives in grocery stores, more people are transitioning to vegetarian and plant-based diets. Many restaurants, both chain and local ones, have toyed with the idea of adding vegan and vegetarian options to their menus - but how effective would this be? An analysis of vegan and vegetarian restaurants would be interesting from a human-centered perspective, as it can open up findings for how satisfied consumers are with the vegan and vegetarian food options in restaurants. I would also want to learn where most vegan and vegetarian restaurants are located, along with how reasonable the menu prices are, and based off the results, recommendations can be provided in order to expand vegan and vegetarian offerings across the United States."
   ]
  },
  {
   "cell_type": "markdown",
   "id": "38cb9445-6594-420e-992b-54d235c6ffe0",
   "metadata": {},
   "source": [
    "### Data selected for analysis: What dataset do you plan to use, and why?"
   ]
  },
  {
   "cell_type": "markdown",
   "id": "683b4fa8-20ed-4a49-8bd2-d49cc0c6827a",
   "metadata": {},
   "source": [
    "The dataset I plan to use is the Kaggle Vegetarian and Vegan Restaurants dataset. This is a sample of a larger dataset from Datafiniti in order to ensure analysis can be completed in the span of 3 weeks. The dataset consists of about 10000 rows and 47 columns. The column titles (for analysis) are address, categories, primary categories, city, country, cuisines, descriptions (including vegan/vegetarian), latitude, longitude, menu URL, menu prices, menu category, menu currency, menu description of item, menu item name, payment types, restaurant phone number, postal code, price range minimums and maximums, and state/province. This dataset is suitable for addressing my research goal as it gives a variety of factors to be analyzed in regard to vegan and vegetarian restaurants, such as location where these restaurants are located, what cuisines these restaurants specialize in, the type of payment they take (cash or card), and the prices of various menu items. Ethical considerations for using this dataset is that it contains a ton of restaurants' addresses, phone numbers, and websites, and while that is normally public information, it should be kept within the dataset only for the purpose of this study.\n",
    "\n",
    "License: Attribution-NonCommercial-ShareAlike 4.0 International (CC BY-NC-SA 4.0)\n",
    "\n",
    "Link: https://www.kaggle.com/datasets/datafiniti/vegetarian-vegan-restaurants?resource=download\n"
   ]
  },
  {
   "cell_type": "markdown",
   "id": "83853148-c092-41b6-a5d0-fbab5e8087db",
   "metadata": {},
   "source": [
    "### Unknowns and dependencies:\n",
    "A factor outside of my control that might impact my ability to complete this project is not having milestones in order to get the project done by the deadline of June 4. I will need to create a workback schedule in order to ensure I get all aspects required in my report. Other classwork may affect the amount of time I spend on this project too. Also, I am unsure if I will need to make any changes to my proposal and project plan, and will have to account time for that too."
   ]
  },
  {
   "cell_type": "markdown",
   "id": "cb8bfbf8-ed03-48fb-932d-50af2c42e4e8",
   "metadata": {},
   "source": [
    "### Research questions and hypotheses:\n",
    "Q1: Which cities have the most vegan and vegetarian restaurants?\n",
    "\n",
    "Hypothesis: The cities that have the most vegan and vegetarian restaurants are those in big cities with large populations (such as New York, Los Angeles, Chicago, etc.) located next to urban centers compared to more rural cities with smaller populations.\n",
    "\n",
    "https://en.wikipedia.org/wiki/List_of_United_States_cities_by_population\n",
    "\n",
    "Q2: What is the impact of city on cost of vegan and vegetarian food options at restaurants?\n",
    "\n",
    "Hypothesis: Higher population, urban cities will have more expensive vegan and vegetarian food options compared to lower population, rural cities.\n",
    "\n",
    "~~Q3: What is the impact of cost on payment options for vegan and vegetarian food options at restaurants?~~\n",
    "\n",
    "~~Hypothesis: Restaurants with higher cost vegan and vegetarian food options will generally accept more payment options compared to restaurants with lower cost vegan and vegetarian food options (i.e. more credit card types accepted).~~\n",
    "\n",
    "*Q3 was changed because there is too much missing data for this type of analysis\n",
    "\n",
    "Q3: Which cuisine is most abundant in terms of vegan and vegetarian food options served at restaurants?\n",
    "\n",
    "Hypothesis: Cuisines from where a significant portion of the population follows a vegan or vegetarian diet (i.e. India) will be more abundant compared to cuisines from where majority of the population eats an animal-product based diet (i.e. American and European countries).\n",
    "\n",
    "Q4: What is the impact of cuisine on price of vegan and vegetarian food options served at restaurants?\n",
    "\n",
    "Hypothesis: Type of cuisine does not influence price of vegan and vegetarian food options served at restaurants in the United States.\n",
    "\n",
    "Q5: What is the most common menu item in vegan and vegetarian restaurants?\n",
    "\n",
    "Hypothesis: The most common menu item in vegan and vegetarian restaurants is rice and rice dishes.\n"
   ]
  },
  {
   "cell_type": "markdown",
   "id": "e0b046e7-8c83-4128-bdfa-e8c85a3cc2ed",
   "metadata": {},
   "source": [
    "### Background and related work\n",
    "There were three articles that had interesting insights about the phenomenon of vegan and vegetarian restaurants.\n",
    "\n",
    "This first article (https://www.ncbi.nlm.nih.gov/pmc/articles/PMC9234452/) found that while customers at traditional restaurants eat based on multiple attributes such as food quality, price, convenience, location design, taste, etc., customers who eat at vegan restaurants do so more as a way to align with their reasonings for being vegan (whether ethical, religious, or so on). The findings were that out of the 5 customer engagement factors, identification, which is one's perceived belongingness to an organization (or veganism in this case), was the main factor for vegan customers choosing vegan restaurants.\n",
    "\n",
    "This second article (https://www.nveo.org/index.php/journal/article/download/3952/3251/3974) investigated Romanian attitudes towards vegetarian restaurants via a voluntary random sample of 558 participants. The findings were that quality of dishes, diversity of the menu, the quality of services, customer satisfaction, the atmosphere and the experiences lived by consumers were important factors for customer satisfaction in vegetarian restaurants and should be noted by restaurant owners.\n",
    "\n",
    "This third article (https://hospitalityinsights.ehl.edu/vegan-food) has an interesting quote: \"Those in the business know that limiting the availability of plant-based foods could be catastrophic, as it could literally cause them to lose business from a huge customer base. And while the cost of ingredients needed for vegan recipes and cooking vegan food may cost restaurants a bit more; dedicated consumers seem to understand and are still willing to pay more for the vegan options they want. Restaurants that respond to the consumer demand for more and better vegan dishes on their menu will excel and see sales soar.\" It follows in the findings of the first article in that people's attitudes towards vegan menu items is different compared to traditional animal-based menu items.\n",
    "\n",
    "Overall, from these three articles, this led me to focus on investigating city, price, and type of cuisine, as while the customer attitudes towards vegan and vegetarian restaurants was an apparent finding from all these studies, there was not much mention of how city and type of cuisine have an impact on vegan and vegetarian restaurants (besides maybe Romania, but what about the U.S.?). By looking at menu prices for vegan restaurants, I am also curious to confirm whether the claims about price not being a concern for consumers at vegan restaurants holds true. \n",
    "\n",
    "There is also a platform on the Internet that actually maps out vegan and vegetarian restaurants for users to find, called HappyCow. HappyCow (https://www.happycow.net/) is a well-known public service forum platform in the online vegan and vegetarian communities that aims to make vegan and vegetarian food accessible. Their target audience is vegan and vegetarian travellers looking to find nearby vegan and vegetarian restaurants. The site also offers vegan and vegetarian supermarket grocery suggestions, and the platform even has a forum where travellers and people can engage in conversations related to the HappyCow site and vegan and vegetarian food. One notable aspect of this platform is that it maps all nearby vegan and vegetarian restaurants near you, and shows details such as other peoples' reviews and what food options and cuisines the restaurant specializes in. It also allows you to explore vegan and vegetarian restaurants around the world. For the purposes of my study, HappyCow will be a useful resource that will allow me to search some of the restaurants listed in the database to see what people say about them, and maybe I can perform qualitative analysis from that data."
   ]
  },
  {
   "cell_type": "markdown",
   "id": "5fbb0adf-e250-4e3b-a9dd-70eba1b52212",
   "metadata": {},
   "source": [
    "### Methodology\n",
    "All of these questions look at vegan and vegetarian restaurants' combined unless otherwise specified.\n",
    "\n",
    "Q1:\n",
    "\n",
    "In order to find which cities have the most vegan and vegetarian restaurants, I plan to loop through the dataset, clean up any duplicates, and add every unique restaurant to a count variable for each city. This will likely be in Python as I can code for loops to make this counting process easier. I plan to present this data in an ordered bar graph where cities are on the x-axis and the count of vegan and vegetarian restaurants in that city are on the y-axis, and the graph is ordered from cities with the most restaurants to the ones with the least. This format is clean for easy viewing of which cities have the most and least vegan/vegetarian restaurants. I can also separate the data so I can see which cities have the most vegan restaurants only, and which cities have the most vegetarian restaurants only.\n",
    "\n",
    "Q2:\n",
    "\n",
    "In order to determine how city impacts the cost of vegan and vegetarian food options, I plan to calculate the average food price for all menu items in a city and compare prices in a graph or table. I chose this method because there are multiple restaurants and food items at each city, meaning it would take too long of a time to analyze every individual item. By calculating the average across all food items, I can get a good estimate of the price of most dishes in a certain city. I plan to present this in the form of a table, with city names as one column, and average food prices as another column, as I find this will be clear for the viewer to see what the average menu food prices for vegan and vegetarian items are in each city. Showing the city names on the table can also allow me to discover if my hypothesis is supported. Depending on what trends the data shows, I may also choose to create a visualization of cities and average menu food prices in the form of a bar graph, ranking the cities from the highest average food price to lowest.\n",
    "\n",
    "Q3:\n",
    "\n",
    "In order to determine which cuisine is most abundant/popular in vegan and vegetarian restaurants, I plan to perform a similar analysis to Q1, only this time, I would set the types of cuisines as the count variables instead of city. For each unique restaurant, depending on what cuisines are offered, I will add those to the respective count variable for each appearance. If a restaurant has multiple cuisines, all variables will get a +1 added to the count value.\n",
    "\n",
    "Q4:\n",
    "\n",
    "In order to determine if type of cuisine impacts price of vegan and vegetarian food options in restaurants, I plan to calculate the average price for all menu items in each cuisine, and similar to Q2, compare the prices in a graph or table. I plan to present this in the form of either a table or graph, as I can show clearly, what the average prices are for each cuisine, and if there is a relationship between cuisine and price.\n",
    "\n",
    "Q5: \n",
    "\n",
    "In order to determine the most common vegan and vegetarian restaurant menu item, I plan to go through the menus.name column and extract every key word and add counts to it in a for loop every time the key word reappears. Then, I will manually look through the key words list to determine which food item is the most popular dish in vegan and vegetarian restaurants (i.e. things like \"baked\" are not a food item, but \"rice\" is). By separating key words, I will be able to find which foods are used most commonly in these restaurants, as using the entire menu item name will likely be too unique. I will present this data in one of those visualizations where the most common word is larger than the other words, as I think it would be a fun way (and informative for the viewer) to showcase what the most common menu item is, since it'll likely just be one or two words.\n"
   ]
  }
 ],
 "metadata": {
  "kernelspec": {
   "display_name": "Python 3 (ipykernel)",
   "language": "python",
   "name": "python3"
  },
  "language_info": {
   "codemirror_mode": {
    "name": "ipython",
    "version": 3
   },
   "file_extension": ".py",
   "mimetype": "text/x-python",
   "name": "python",
   "nbconvert_exporter": "python",
   "pygments_lexer": "ipython3",
   "version": "3.9.7"
  }
 },
 "nbformat": 4,
 "nbformat_minor": 5
}
