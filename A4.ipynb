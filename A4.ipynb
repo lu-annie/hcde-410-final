{
 "cells": [
  {
   "cell_type": "markdown",
   "id": "cc2999c3-9782-4946-ba03-1ad481a8a0b9",
   "metadata": {},
   "source": [
    "# An Exploratory Analysis of Vegetarian and Vegan Food Options at Restaurants in the United States"
   ]
  },
  {
   "cell_type": "markdown",
   "id": "8f928d89-acf6-4c12-ac89-c476cd91c872",
   "metadata": {},
   "source": [
    "### Motivation\n",
    "A vegetarian is a person who does not consume meat and other animal products in their diet. A vegan is a person who abstains from all animal products and all uses of animals as commodities (this includes eggs, milk, honey, fur, wool, etc.). Many people choose to eliminate meat, eggs, and dairy from their diets due to religious, ethical, health reasons, and more. With the rise of products such as mock meats and dairy-free alternatives in grocery stores, more people are transitioning to plant-based diets. Many restaurants, both chain and local ones, have toyed with the idea of adding vegan and vegetarian options to their menus - but how effective would this be?\n",
    "\n",
    "In this data exploration, I am planning to do analysis of vegan and vegetarian restaurants and their menu items in the United States in order to investigate how well US restaurants cater to these dietary choices, as vegans and vegetarians make up only 5% of the United States (Source: https://en.wikipedia.org/wiki/Vegetarianism_by_country). An analysis of vegan and vegetarian restaurants would be interesting from a human-centered perspective, as it can open up findings for how satisfied consumers are with the vegan and vegetarian food options in restaurants. I would also want to learn where most vegan and vegetarian restaurants are located, along with how reasonable the menu prices are, and based off the results, recommendations can be provided in order to expand vegan and vegetarian offerings across the United States."
   ]
  },
  {
   "cell_type": "markdown",
   "id": "e71f32d6-21a9-42d2-a427-6ae43e90950a",
   "metadata": {},
   "source": [
    "### Background and Related Work\n",
    "There are many articles on the web that explore the phenomenon of vegan and vegetarian restaurant options. I found three particularly interesting articles detailed below.\n",
    "\n",
    "This first article (https://www.ncbi.nlm.nih.gov/pmc/articles/PMC9234452/) found that while customers at traditional restaurants eat based on multiple attributes such as food quality, price, convenience, location design, taste, etc., customers who eat at vegan restaurants do so more as a way to align with their reasonings for being vegan (whether ethical, religious, or so on). The findings were that out of the 5 customer engagement factors, identification, which is one's perceived belongingness to an organization (or veganism in this case), was the main factor for vegan customers choosing vegan restaurants.\n",
    "\n",
    "This second article (https://www.nveo.org/index.php/journal/article/download/3952/3251/3974) investigated Romanian attitudes towards vegetarian restaurants via a voluntary random sample of 558 participants. The findings were that quality of dishes, diversity of the menu, the quality of services, customer satisfaction, the atmosphere and the experiences lived by consumers were important factors for customer satisfaction in vegetarian restaurants and should be noted by restaurant owners.\n",
    "\n",
    "This third article (https://hospitalityinsights.ehl.edu/vegan-food) has an interesting quote: \"Those in the business know that limiting the availability of plant-based foods could be catastrophic, as it could literally cause them to lose business from a huge customer base. And while the cost of ingredients needed for vegan recipes and cooking vegan food may cost restaurants a bit more; dedicated consumers seem to understand and are still willing to pay more for the vegan options they want. Restaurants that respond to the consumer demand for more and better vegan dishes on their menu will excel and see sales soar.\" It follows in the findings of the first article in that people's attitudes towards vegan menu items is different compared to traditional animal-based menu items.\n",
    "\n",
    "Overall, from these three articles, this led me to focus on investigating city, price, and type of cuisine, as while the customer attitudes towards vegan and vegetarian restaurants was an apparent finding from all these studies, there was not much mention of how city and type of cuisine have an impact on vegan and vegetarian restaurants (besides maybe Romania, but what about the U.S.?). By looking at menu prices for vegan restaurants, I am also curious to confirm whether the claims in the first article about price not being a concern for consumers at vegan restaurants holds true. \n",
    "\n",
    "There is also a platform on the Internet that actually maps out vegan and vegetarian restaurants for users to find, called HappyCow. [HappyCow](https://www.happycow.net/) is a well-known public service forum platform in the online vegan and vegetarian communities that aims to make vegan and vegetarian food accessible. Their target audience is vegan and vegetarian travellers looking to find nearby vegan and vegetarian restaurants. The site also offers vegan and vegetarian supermarket grocery suggestions, and the platform even has a forum where travellers and people can engage in conversations related to the HappyCow site and vegan and vegetarian food. One notable aspect of this platform is that it maps all nearby vegan and vegetarian restaurants near you, and shows details such as other peoples' reviews and what food options and cuisines the restaurant specializes in. It also allows you to explore vegan and vegetarian restaurants around the world. For the purposes of my study, HappyCow will be a useful resource that will allow me to search some of the restaurants listed in the database to see what people say about them, and allow me to perform qualitative analysis from that data."
   ]
  },
  {
   "cell_type": "markdown",
   "id": "38cb9445-6594-420e-992b-54d235c6ffe0",
   "metadata": {},
   "source": [
    "### Data Selected for Analysis\n",
    "The dataset I plan to use is the Datafiniti Vegetarian and Vegan Restaurants dataset. The dataset consists of 18000 (insert actual number) rows and 47 columns. The column titles (for analysis) are address, categories, primary categories, city, country, cuisines, descriptions (including vegan/vegetarian), latitude, longitude, menu URL, menu prices, menu category, menu currency, menu description of item, menu item name, payment types, restaurant phone number, postal code, price range minimums and maximums, and state/province. This dataset is suitable for addressing my research goal as it gives a variety of factors to be analyzed in regard to vegan and vegetarian restaurants, such as location where these restaurants are located, what cuisines these restaurants specialize in, the type of payment they take (cash or card), and the prices of various menu items. Ethical considerations for using this dataset is that it contains a ton of restaurants' addresses, phone numbers, and websites, and while that is normally public information, it should be kept within the dataset only for the purpose of this study. Also, from the [Business Data Schema](https://developer.datafiniti.co/docs/business-data-schema), there is a field titled \"people,\" which has personal information of people employed by a specific business, which is a huge concern in regard to privacy. This field will not be used for the purposes of this study.\n",
    "\n",
    "License: [Attribution-NonCommercial-ShareAlike 4.0 International (CC BY-NC-SA 4.0)](https://creativecommons.org/licenses/by-nc-sa/4.0/)\n",
    "\n",
    "Link: https://data.world/datafiniti/vegetarian-vegan-restaurants"
   ]
  },
  {
   "cell_type": "markdown",
   "id": "cb8bfbf8-ed03-48fb-932d-50af2c42e4e8",
   "metadata": {},
   "source": [
    "### Research questions and hypotheses:\n",
    "\n",
    "This study aims to explore three research questions in the realm of this dataset.\n",
    "\n",
    "Q1: Which cities have the most vegan and vegetarian restaurants?\n",
    "\n",
    "Hypothesis: The cities that have the most vegan and vegetarian restaurants are those in big cities* with large populations (such as New York, Los Angeles, Chicago, etc.) located next to urban centers compared to more rural cities with smaller populations.\n",
    "\n",
    "*Big cities are based off the \"State Largest City\" in the table under \"50 States and Washington D.C.\" from [Wikipedia](https://en.wikipedia.org/wiki/List_of_United_States_cities_by_population).\n",
    "\n",
    "Q2: Which cuisine is most abundant in terms of vegan and vegetarian food options served at restaurants?\n",
    "\n",
    "Hypothesis: Cuisines from countries 10% or more of the population follows a vegan or vegetarian diet (i.e. India at 20-39%) will be more abundant in terms of vegan and vegetarian food options served at restaurants compared to cuisines from countries where majority of the population eats an animal-product based diet (i.e. United States at 5%).*\n",
    "\n",
    "*Based off statistics from [Wikipedia](https://en.wikipedia.org/wiki/Vegetarianism_by_country).\n",
    "\n",
    "Q3: What is the most common menu item in vegan and vegetarian restaurants?\n",
    "\n",
    "Hypothesis: The most common menu item in vegan and vegetarian restaurants is rice and rice dishes.\n"
   ]
  },
  {
   "cell_type": "markdown",
   "id": "5fbb0adf-e250-4e3b-a9dd-70eba1b52212",
   "metadata": {},
   "source": [
    "### Methodology\n",
    "The data analysis process begins with cleaning the data. Fields such as \"Categories\" and \"Cuisines\" have data that contains punctuation (such as commas, brackets, etc.) that will make data visualization difficult in Tableau. We will begin by cleaning the dataset in Python."
   ]
  },
  {
   "cell_type": "markdown",
   "id": "368697e6-1640-46cb-9586-9ffdfe51ffa7",
   "metadata": {},
   "source": [
    "#### Step 1: Data Cleaning in Python\n",
    "\n",
    "Before the data can be analyzed in Tableau, it must be cleaned using pandas and NumPy. from Python. We will begin by importing the Python pandas and NumPy libraries to assist with cleaning our dataset. In the following cell, df is the variable assigned to the entire dataset, and that will read in the csv of the Datafiniti dataset using pandas. The first 5 rows of data are displayed."
   ]
  },
  {
   "cell_type": "code",
   "execution_count": 58,
   "id": "8f03b203-1871-4925-8f77-b0ad13dc90a3",
   "metadata": {},
   "outputs": [
    {
     "data": {
      "text/html": [
       "<div>\n",
       "<style scoped>\n",
       "    .dataframe tbody tr th:only-of-type {\n",
       "        vertical-align: middle;\n",
       "    }\n",
       "\n",
       "    .dataframe tbody tr th {\n",
       "        vertical-align: top;\n",
       "    }\n",
       "\n",
       "    .dataframe thead th {\n",
       "        text-align: right;\n",
       "    }\n",
       "</style>\n",
       "<table border=\"1\" class=\"dataframe\">\n",
       "  <thead>\n",
       "    <tr style=\"text-align: right;\">\n",
       "      <th></th>\n",
       "      <th>address</th>\n",
       "      <th>categories</th>\n",
       "      <th>city</th>\n",
       "      <th>claimed</th>\n",
       "      <th>country</th>\n",
       "      <th>cuisines</th>\n",
       "      <th>dateOpened</th>\n",
       "      <th>dateUpdated</th>\n",
       "      <th>descriptions</th>\n",
       "      <th>facebookPageURL</th>\n",
       "      <th>...</th>\n",
       "      <th>menuURL</th>\n",
       "      <th>name</th>\n",
       "      <th>paymentTypes</th>\n",
       "      <th>phones</th>\n",
       "      <th>postalCode</th>\n",
       "      <th>priceRange</th>\n",
       "      <th>province</th>\n",
       "      <th>sic</th>\n",
       "      <th>twitter</th>\n",
       "      <th>websites</th>\n",
       "    </tr>\n",
       "  </thead>\n",
       "  <tbody>\n",
       "    <tr>\n",
       "      <th>0</th>\n",
       "      <td>2871 Gulf To Bay Blvd</td>\n",
       "      <td>American, American (new), Clearwater Restauran...</td>\n",
       "      <td>Clearwater</td>\n",
       "      <td>NaN</td>\n",
       "      <td>US</td>\n",
       "      <td>NaN</td>\n",
       "      <td>NaN</td>\n",
       "      <td>2014-02-01T04:41:06Z</td>\n",
       "      <td>Tags: American (New), American, and Trendy Sta...</td>\n",
       "      <td>NaN</td>\n",
       "      <td>...</td>\n",
       "      <td>NaN</td>\n",
       "      <td>Village Inn Restaurant and Bakery</td>\n",
       "      <td>NaN</td>\n",
       "      <td>7277964988</td>\n",
       "      <td>33759</td>\n",
       "      <td>NaN</td>\n",
       "      <td>FL</td>\n",
       "      <td>8423</td>\n",
       "      <td>NaN</td>\n",
       "      <td>NaN</td>\n",
       "    </tr>\n",
       "    <tr>\n",
       "      <th>1</th>\n",
       "      <td>605 W Main St</td>\n",
       "      <td>Caf and Sandwich Place</td>\n",
       "      <td>Louisville</td>\n",
       "      <td>NaN</td>\n",
       "      <td>US</td>\n",
       "      <td>Vegetarian,  Delicatessen</td>\n",
       "      <td>NaN</td>\n",
       "      <td>2016-07-23T22:37:24Z</td>\n",
       "      <td>Atlantic No. 5, Louisville: See 4 unbiased rev...</td>\n",
       "      <td>NaN</td>\n",
       "      <td>...</td>\n",
       "      <td>NaN</td>\n",
       "      <td>Atlantic No. 5</td>\n",
       "      <td>Yes</td>\n",
       "      <td>5028833398</td>\n",
       "      <td>40202</td>\n",
       "      <td>USD 25.00-40.00</td>\n",
       "      <td>KY</td>\n",
       "      <td>NaN</td>\n",
       "      <td>NaN</td>\n",
       "      <td>atlanticno5.com</td>\n",
       "    </tr>\n",
       "    <tr>\n",
       "      <th>2</th>\n",
       "      <td>3803 9th St S W</td>\n",
       "      <td>American, Barbecue, Puyallup Restaurants, Barb...</td>\n",
       "      <td>Puyallup</td>\n",
       "      <td>NaN</td>\n",
       "      <td>US</td>\n",
       "      <td>NaN</td>\n",
       "      <td>NaN</td>\n",
       "      <td>2015-11-19T22:22:31Z</td>\n",
       "      <td>Description:  Famous Dave's is a Barbecue , Am...</td>\n",
       "      <td>NaN</td>\n",
       "      <td>...</td>\n",
       "      <td>NaN</td>\n",
       "      <td>Famous Dave's</td>\n",
       "      <td>NaN</td>\n",
       "      <td>2536040340</td>\n",
       "      <td>98373</td>\n",
       "      <td>USD 10.00 - USD 15.00</td>\n",
       "      <td>WA</td>\n",
       "      <td>5610</td>\n",
       "      <td>NaN</td>\n",
       "      <td>http://famousdaves.com</td>\n",
       "    </tr>\n",
       "    <tr>\n",
       "      <th>3</th>\n",
       "      <td>30 S Main St</td>\n",
       "      <td>Coffee &amp; Tea, Restaurant, Restaurants, Bar, Am...</td>\n",
       "      <td>Oberlin</td>\n",
       "      <td>NaN</td>\n",
       "      <td>US</td>\n",
       "      <td>Coffee &amp; Tea, Restaurants, American,  Bar,  Pu...</td>\n",
       "      <td>NaN</td>\n",
       "      <td>2016-06-20T17:47:10Z</td>\n",
       "      <td>The Feve, Oberlin: See 170 unbiased reviews of...</td>\n",
       "      <td>NaN</td>\n",
       "      <td>...</td>\n",
       "      <td>/oberlin-oh/mip/the-feve-8940755/menu</td>\n",
       "      <td>The Feve</td>\n",
       "      <td>mastercard, amex, discover, Yes, visa</td>\n",
       "      <td>[\"4407741978\",\"4197741978\",\"4407753064\"]</td>\n",
       "      <td>44074</td>\n",
       "      <td>USD 25.00-40.00</td>\n",
       "      <td>OH</td>\n",
       "      <td>NaN</td>\n",
       "      <td>NaN</td>\n",
       "      <td>http://www.thefeve.com</td>\n",
       "    </tr>\n",
       "    <tr>\n",
       "      <th>4</th>\n",
       "      <td>55 Crescent Dr</td>\n",
       "      <td>Sandwich Place and Fast Food Restaurant</td>\n",
       "      <td>Pleasant Hill</td>\n",
       "      <td>yellowpages.com</td>\n",
       "      <td>US</td>\n",
       "      <td>Take Out Restaurants, Asian Restaurants, Resta...</td>\n",
       "      <td>NaN</td>\n",
       "      <td>2016-07-23T23:55:05Z</td>\n",
       "      <td>[\"https://www.zagat.com/r/yalla-mediterranean-...</td>\n",
       "      <td>NaN</td>\n",
       "      <td>...</td>\n",
       "      <td>/pleasant-hill-ca/mip/yalla-mediterranean-5061...</td>\n",
       "      <td>Quiznos</td>\n",
       "      <td>master card, visa</td>\n",
       "      <td>9258258644</td>\n",
       "      <td>94523</td>\n",
       "      <td>$</td>\n",
       "      <td>CA</td>\n",
       "      <td>NaN</td>\n",
       "      <td>quiznos</td>\n",
       "      <td>http://www.yallamedi.com/</td>\n",
       "    </tr>\n",
       "  </tbody>\n",
       "</table>\n",
       "<p>5 rows × 29 columns</p>\n",
       "</div>"
      ],
      "text/plain": [
       "                 address                                         categories  \\\n",
       "0  2871 Gulf To Bay Blvd  American, American (new), Clearwater Restauran...   \n",
       "1          605 W Main St                             Caf and Sandwich Place   \n",
       "2        3803 9th St S W  American, Barbecue, Puyallup Restaurants, Barb...   \n",
       "3           30 S Main St  Coffee & Tea, Restaurant, Restaurants, Bar, Am...   \n",
       "4         55 Crescent Dr            Sandwich Place and Fast Food Restaurant   \n",
       "\n",
       "            city          claimed country  \\\n",
       "0     Clearwater              NaN      US   \n",
       "1     Louisville              NaN      US   \n",
       "2       Puyallup              NaN      US   \n",
       "3        Oberlin              NaN      US   \n",
       "4  Pleasant Hill  yellowpages.com      US   \n",
       "\n",
       "                                            cuisines dateOpened  \\\n",
       "0                                                NaN        NaN   \n",
       "1                          Vegetarian,  Delicatessen        NaN   \n",
       "2                                                NaN        NaN   \n",
       "3  Coffee & Tea, Restaurants, American,  Bar,  Pu...        NaN   \n",
       "4  Take Out Restaurants, Asian Restaurants, Resta...        NaN   \n",
       "\n",
       "            dateUpdated                                       descriptions  \\\n",
       "0  2014-02-01T04:41:06Z  Tags: American (New), American, and Trendy Sta...   \n",
       "1  2016-07-23T22:37:24Z  Atlantic No. 5, Louisville: See 4 unbiased rev...   \n",
       "2  2015-11-19T22:22:31Z  Description:  Famous Dave's is a Barbecue , Am...   \n",
       "3  2016-06-20T17:47:10Z  The Feve, Oberlin: See 170 unbiased reviews of...   \n",
       "4  2016-07-23T23:55:05Z  [\"https://www.zagat.com/r/yalla-mediterranean-...   \n",
       "\n",
       "  facebookPageURL  ...                                            menuURL  \\\n",
       "0             NaN  ...                                                NaN   \n",
       "1             NaN  ...                                                NaN   \n",
       "2             NaN  ...                                                NaN   \n",
       "3             NaN  ...              /oberlin-oh/mip/the-feve-8940755/menu   \n",
       "4             NaN  ...  /pleasant-hill-ca/mip/yalla-mediterranean-5061...   \n",
       "\n",
       "                                name                           paymentTypes  \\\n",
       "0  Village Inn Restaurant and Bakery                                    NaN   \n",
       "1                     Atlantic No. 5                                    Yes   \n",
       "2                      Famous Dave's                                    NaN   \n",
       "3                           The Feve  mastercard, amex, discover, Yes, visa   \n",
       "4                            Quiznos                      master card, visa   \n",
       "\n",
       "                                     phones postalCode             priceRange  \\\n",
       "0                                7277964988      33759                    NaN   \n",
       "1                                5028833398      40202        USD 25.00-40.00   \n",
       "2                                2536040340      98373  USD 10.00 - USD 15.00   \n",
       "3  [\"4407741978\",\"4197741978\",\"4407753064\"]      44074        USD 25.00-40.00   \n",
       "4                                9258258644      94523                      $   \n",
       "\n",
       "  province   sic  twitter                   websites  \n",
       "0       FL  8423      NaN                        NaN  \n",
       "1       KY   NaN      NaN            atlanticno5.com  \n",
       "2       WA  5610      NaN     http://famousdaves.com  \n",
       "3       OH   NaN      NaN     http://www.thefeve.com  \n",
       "4       CA   NaN  quiznos  http://www.yallamedi.com/  \n",
       "\n",
       "[5 rows x 29 columns]"
      ]
     },
     "execution_count": 58,
     "metadata": {},
     "output_type": "execute_result"
    }
   ],
   "source": [
    "# import pandas and numpy libraries\n",
    "import pandas as pd\n",
    "import numpy as np\n",
    "\n",
    "# use pandas to read the csv\n",
    "\n",
    "df = pd.read_csv('vegetarian_restaurants_US_datafiniti_vegetarian_restaurants_US_datafiniti.csv')\n",
    "\n",
    "# display first 5 results of the loaded csv file in table format\n",
    "df.head()"
   ]
  },
  {
   "cell_type": "markdown",
   "id": "d82bfb96-5c5e-4532-898f-1bec9a4b6cac",
   "metadata": {},
   "source": [
    "Then, we will drop a few columns that don't have meaningful data we can visualize. The following code block gets rid of a few logistical columns by assigning them to a variable, and using pandas .drop() to remove them from the dataset."
   ]
  },
  {
   "cell_type": "code",
   "execution_count": 59,
   "id": "cad2e95e-b241-4df9-a0aa-cf066a09c837",
   "metadata": {},
   "outputs": [
    {
     "data": {
      "text/html": [
       "<div>\n",
       "<style scoped>\n",
       "    .dataframe tbody tr th:only-of-type {\n",
       "        vertical-align: middle;\n",
       "    }\n",
       "\n",
       "    .dataframe tbody tr th {\n",
       "        vertical-align: top;\n",
       "    }\n",
       "\n",
       "    .dataframe thead th {\n",
       "        text-align: right;\n",
       "    }\n",
       "</style>\n",
       "<table border=\"1\" class=\"dataframe\">\n",
       "  <thead>\n",
       "    <tr style=\"text-align: right;\">\n",
       "      <th></th>\n",
       "      <th>address</th>\n",
       "      <th>categories</th>\n",
       "      <th>city</th>\n",
       "      <th>country</th>\n",
       "      <th>cuisines</th>\n",
       "      <th>descriptions</th>\n",
       "      <th>features</th>\n",
       "      <th>hours</th>\n",
       "      <th>lat</th>\n",
       "      <th>languages</th>\n",
       "      <th>long</th>\n",
       "      <th>menus</th>\n",
       "      <th>name</th>\n",
       "      <th>phones</th>\n",
       "      <th>postalCode</th>\n",
       "      <th>priceRange</th>\n",
       "      <th>province</th>\n",
       "    </tr>\n",
       "  </thead>\n",
       "  <tbody>\n",
       "    <tr>\n",
       "      <th>0</th>\n",
       "      <td>2871 Gulf To Bay Blvd</td>\n",
       "      <td>American, American (new), Clearwater Restauran...</td>\n",
       "      <td>Clearwater</td>\n",
       "      <td>US</td>\n",
       "      <td>NaN</td>\n",
       "      <td>Tags: American (New), American, and Trendy Sta...</td>\n",
       "      <td>NaN</td>\n",
       "      <td>NaN</td>\n",
       "      <td>27.971165</td>\n",
       "      <td>NaN</td>\n",
       "      <td>-82.696938</td>\n",
       "      <td>[{\"descriptions\":\"A combination of diced ham a...</td>\n",
       "      <td>Village Inn Restaurant and Bakery</td>\n",
       "      <td>7277964988</td>\n",
       "      <td>33759</td>\n",
       "      <td>NaN</td>\n",
       "      <td>FL</td>\n",
       "    </tr>\n",
       "    <tr>\n",
       "      <th>1</th>\n",
       "      <td>605 W Main St</td>\n",
       "      <td>Caf and Sandwich Place</td>\n",
       "      <td>Louisville</td>\n",
       "      <td>US</td>\n",
       "      <td>Vegetarian,  Delicatessen</td>\n",
       "      <td>Atlantic No. 5, Louisville: See 4 unbiased rev...</td>\n",
       "      <td>[{\"key\":\"Value Rating\",\"value\":\"3.5 of 5 stars...</td>\n",
       "      <td>[{\"day\":\"Mon - Fri\",\"hour\":\"7:00 AM - 4:00 PM\"...</td>\n",
       "      <td>38.257020</td>\n",
       "      <td>NaN</td>\n",
       "      <td>-85.760013</td>\n",
       "      <td>[{\"descriptions\":\"Mexican coke, ale 8, q soda,...</td>\n",
       "      <td>Atlantic No. 5</td>\n",
       "      <td>5028833398</td>\n",
       "      <td>40202</td>\n",
       "      <td>USD 25.00-40.00</td>\n",
       "      <td>KY</td>\n",
       "    </tr>\n",
       "    <tr>\n",
       "      <th>2</th>\n",
       "      <td>3803 9th St S W</td>\n",
       "      <td>American, Barbecue, Puyallup Restaurants, Barb...</td>\n",
       "      <td>Puyallup</td>\n",
       "      <td>US</td>\n",
       "      <td>NaN</td>\n",
       "      <td>Description:  Famous Dave's is a Barbecue , Am...</td>\n",
       "      <td>NaN</td>\n",
       "      <td>NaN</td>\n",
       "      <td>47.154828</td>\n",
       "      <td>NaN</td>\n",
       "      <td>-122.303992</td>\n",
       "      <td>[{\"descriptions\":\"create your own full slab. p...</td>\n",
       "      <td>Famous Dave's</td>\n",
       "      <td>2536040340</td>\n",
       "      <td>98373</td>\n",
       "      <td>USD 10.00 - USD 15.00</td>\n",
       "      <td>WA</td>\n",
       "    </tr>\n",
       "    <tr>\n",
       "      <th>3</th>\n",
       "      <td>30 S Main St</td>\n",
       "      <td>Coffee &amp; Tea, Restaurant, Restaurants, Bar, Am...</td>\n",
       "      <td>Oberlin</td>\n",
       "      <td>US</td>\n",
       "      <td>Coffee &amp; Tea, Restaurants, American,  Bar,  Pu...</td>\n",
       "      <td>The Feve, Oberlin: See 170 unbiased reviews of...</td>\n",
       "      <td>[{\"key\":\"AKA:\",\"value\":\"Feve The\"},{\"key\":\"Val...</td>\n",
       "      <td>[{\"day\":\"Sat - Sun\",\"hour\":\"9:30 am - 2:30 am\"...</td>\n",
       "      <td>41.290823</td>\n",
       "      <td>NaN</td>\n",
       "      <td>-82.217640</td>\n",
       "      <td>NaN</td>\n",
       "      <td>The Feve</td>\n",
       "      <td>[\"4407741978\",\"4197741978\",\"4407753064\"]</td>\n",
       "      <td>44074</td>\n",
       "      <td>USD 25.00-40.00</td>\n",
       "      <td>OH</td>\n",
       "    </tr>\n",
       "    <tr>\n",
       "      <th>4</th>\n",
       "      <td>55 Crescent Dr</td>\n",
       "      <td>Sandwich Place and Fast Food Restaurant</td>\n",
       "      <td>Pleasant Hill</td>\n",
       "      <td>US</td>\n",
       "      <td>Take Out Restaurants, Asian Restaurants, Resta...</td>\n",
       "      <td>[\"https://www.zagat.com/r/yalla-mediterranean-...</td>\n",
       "      <td>[{\"key\":\"Price Range \",\"value\":\"Below Average\"}]</td>\n",
       "      <td>[{\"day\":\"Monday \",\"hour\":\"11:00am - 9:00pm \"},...</td>\n",
       "      <td>37.945663</td>\n",
       "      <td>NaN</td>\n",
       "      <td>-122.061997</td>\n",
       "      <td>[{\"descriptions\":\"greek salad and rice pilaf t...</td>\n",
       "      <td>Quiznos</td>\n",
       "      <td>9258258644</td>\n",
       "      <td>94523</td>\n",
       "      <td>$</td>\n",
       "      <td>CA</td>\n",
       "    </tr>\n",
       "  </tbody>\n",
       "</table>\n",
       "</div>"
      ],
      "text/plain": [
       "                 address                                         categories  \\\n",
       "0  2871 Gulf To Bay Blvd  American, American (new), Clearwater Restauran...   \n",
       "1          605 W Main St                             Caf and Sandwich Place   \n",
       "2        3803 9th St S W  American, Barbecue, Puyallup Restaurants, Barb...   \n",
       "3           30 S Main St  Coffee & Tea, Restaurant, Restaurants, Bar, Am...   \n",
       "4         55 Crescent Dr            Sandwich Place and Fast Food Restaurant   \n",
       "\n",
       "            city country                                           cuisines  \\\n",
       "0     Clearwater      US                                                NaN   \n",
       "1     Louisville      US                          Vegetarian,  Delicatessen   \n",
       "2       Puyallup      US                                                NaN   \n",
       "3        Oberlin      US  Coffee & Tea, Restaurants, American,  Bar,  Pu...   \n",
       "4  Pleasant Hill      US  Take Out Restaurants, Asian Restaurants, Resta...   \n",
       "\n",
       "                                        descriptions  \\\n",
       "0  Tags: American (New), American, and Trendy Sta...   \n",
       "1  Atlantic No. 5, Louisville: See 4 unbiased rev...   \n",
       "2  Description:  Famous Dave's is a Barbecue , Am...   \n",
       "3  The Feve, Oberlin: See 170 unbiased reviews of...   \n",
       "4  [\"https://www.zagat.com/r/yalla-mediterranean-...   \n",
       "\n",
       "                                            features  \\\n",
       "0                                                NaN   \n",
       "1  [{\"key\":\"Value Rating\",\"value\":\"3.5 of 5 stars...   \n",
       "2                                                NaN   \n",
       "3  [{\"key\":\"AKA:\",\"value\":\"Feve The\"},{\"key\":\"Val...   \n",
       "4   [{\"key\":\"Price Range \",\"value\":\"Below Average\"}]   \n",
       "\n",
       "                                               hours        lat languages  \\\n",
       "0                                                NaN  27.971165       NaN   \n",
       "1  [{\"day\":\"Mon - Fri\",\"hour\":\"7:00 AM - 4:00 PM\"...  38.257020       NaN   \n",
       "2                                                NaN  47.154828       NaN   \n",
       "3  [{\"day\":\"Sat - Sun\",\"hour\":\"9:30 am - 2:30 am\"...  41.290823       NaN   \n",
       "4  [{\"day\":\"Monday \",\"hour\":\"11:00am - 9:00pm \"},...  37.945663       NaN   \n",
       "\n",
       "         long                                              menus  \\\n",
       "0  -82.696938  [{\"descriptions\":\"A combination of diced ham a...   \n",
       "1  -85.760013  [{\"descriptions\":\"Mexican coke, ale 8, q soda,...   \n",
       "2 -122.303992  [{\"descriptions\":\"create your own full slab. p...   \n",
       "3  -82.217640                                                NaN   \n",
       "4 -122.061997  [{\"descriptions\":\"greek salad and rice pilaf t...   \n",
       "\n",
       "                                name  \\\n",
       "0  Village Inn Restaurant and Bakery   \n",
       "1                     Atlantic No. 5   \n",
       "2                      Famous Dave's   \n",
       "3                           The Feve   \n",
       "4                            Quiznos   \n",
       "\n",
       "                                     phones postalCode             priceRange  \\\n",
       "0                                7277964988      33759                    NaN   \n",
       "1                                5028833398      40202        USD 25.00-40.00   \n",
       "2                                2536040340      98373  USD 10.00 - USD 15.00   \n",
       "3  [\"4407741978\",\"4197741978\",\"4407753064\"]      44074        USD 25.00-40.00   \n",
       "4                                9258258644      94523                      $   \n",
       "\n",
       "  province  \n",
       "0       FL  \n",
       "1       KY  \n",
       "2       WA  \n",
       "3       OH  \n",
       "4       CA  "
      ]
     },
     "execution_count": 59,
     "metadata": {},
     "output_type": "execute_result"
    }
   ],
   "source": [
    "# assign to_drop variable with columns to drop from table\n",
    "to_drop = ['claimed',\n",
    "           'dateOpened',\n",
    "           'dateUpdated',\n",
    "           'facebookPageURL',\n",
    "           'menuURL',\n",
    "           'paymentTypes',\n",
    "           'twitter',\n",
    "           'sic',\n",
    "          'websites',\n",
    "          'isClosed',\n",
    "          'images',\n",
    "          'key']\n",
    "\n",
    "# drop columns\n",
    "df.drop(to_drop, inplace=True, axis=1)\n",
    "\n",
    "# display first 5 results of the table with dropped columns\n",
    "df.head()"
   ]
  },
  {
   "cell_type": "markdown",
   "id": "037939c6-3641-4e2e-b3a7-02a606db6f87",
   "metadata": {},
   "source": [
    "Next, with the columns we are interested in, we must remove punctuation from the data in order to effectively create visualizations using words in Tableau. Using pandas' .str.replace() function with regex, we can effectively do this in one line of code. The following code block details this process for the \"cuisines\" column in order to answer Q1."
   ]
  },
  {
   "cell_type": "code",
   "execution_count": 60,
   "id": "7161623b-8524-4da9-bcbf-554284415ce1",
   "metadata": {},
   "outputs": [
    {
     "name": "stderr",
     "output_type": "stream",
     "text": [
      "/tmp/ipykernel_50/2017242135.py:2: FutureWarning: The default value of regex will change from True to False in a future version.\n",
      "  df['cuisines'] = df['cuisines'].str.replace(r'[^\\w\\s]+', '')\n"
     ]
    },
    {
     "data": {
      "text/plain": [
       "0                                                  NaN\n",
       "1                             Vegetarian  Delicatessen\n",
       "2                                                  NaN\n",
       "3    Coffee  Tea Restaurants American  Bar  Pub  Gr...\n",
       "4    Take Out Restaurants Asian Restaurants Restaur...\n",
       "Name: cuisines, dtype: object"
      ]
     },
     "execution_count": 60,
     "metadata": {},
     "output_type": "execute_result"
    }
   ],
   "source": [
    "# for cuisines column, remove any punctuation\n",
    "df['cuisines'] = df['cuisines'].str.replace(r'[^\\w\\s]+', '')\n",
    "\n",
    "# display cuisines column first 5 results\n",
    "df['cuisines'].head()"
   ]
  },
  {
   "cell_type": "markdown",
   "id": "49df5c06-c0a0-4537-8530-67ce53944461",
   "metadata": {},
   "source": [
    "We will repeat this process for the \"priceRange\" column, while also removing the word \"USD\" and trailing zeroes.*\n",
    "\n",
    "*This data did not end up getting used - see [Limitations](#Limitations) section"
   ]
  },
  {
   "cell_type": "code",
   "execution_count": 61,
   "id": "b40381e5-6826-47c4-8322-32d02e6db576",
   "metadata": {},
   "outputs": [
    {
     "name": "stderr",
     "output_type": "stream",
     "text": [
      "/tmp/ipykernel_50/2854550003.py:2: FutureWarning: The default value of regex will change from True to False in a future version.\n",
      "  df['priceRange'] = df['priceRange'].str.replace(r'[^\\w\\s]+', ' ')\n"
     ]
    },
    {
     "data": {
      "text/plain": [
       "0           NaN\n",
       "1        25  4 \n",
       "2     1     15 \n",
       "3        25  4 \n",
       "4              \n",
       "Name: priceRange, dtype: object"
      ]
     },
     "execution_count": 61,
     "metadata": {},
     "output_type": "execute_result"
    }
   ],
   "source": [
    "# for priceRange column, remove USD and any punctuation to get only numbers\n",
    "df['priceRange'] = df['priceRange'].str.replace(r'USD', '')\n",
    "df['priceRange'] = df['priceRange'].str.replace(r'[^\\w\\s]+', ' ')\n",
    "df['priceRange'] = df['priceRange'].str.replace(r'0', '')\n",
    "\n",
    "# display priceRange column first 5 results\n",
    "df['priceRange'].head()"
   ]
  },
  {
   "cell_type": "markdown",
   "id": "fa6c63a5-529a-4ecc-ae42-fa99993c54cc",
   "metadata": {},
   "source": [
    "Then repeat again for the \"categories\" column. We will also remove the joiner \"and.\""
   ]
  },
  {
   "cell_type": "code",
   "execution_count": 62,
   "id": "2be2e8c1-28f4-4095-b371-85521253cb86",
   "metadata": {},
   "outputs": [
    {
     "name": "stderr",
     "output_type": "stream",
     "text": [
      "/tmp/ipykernel_50/692264062.py:1: FutureWarning: The default value of regex will change from True to False in a future version.\n",
      "  df['categories'] = df['categories'].str.replace(r'[^\\w\\s]+', '')\n"
     ]
    },
    {
     "data": {
      "text/plain": [
       "0    American American new Clearwater Restaurants A...\n",
       "1                                     Caf  Swich Place\n",
       "2    American Barbecue Puyallup Restaurants Barbecu...\n",
       "3    Coffee  Tea Restaurant Restaurants Bar America...\n",
       "4                    Swich Place  Fast Food Restaurant\n",
       "Name: categories, dtype: object"
      ]
     },
     "execution_count": 62,
     "metadata": {},
     "output_type": "execute_result"
    }
   ],
   "source": [
    "# for categories column, remove punctuation and \"and\"\n",
    "df['categories'] = df['categories'].str.replace(r'[^\\w\\s]+', '')\n",
    "df['categories'] = df['categories'].str.replace(r'and', '')\n",
    "\n",
    "# display categories column first 5 results\n",
    "df['categories'].head()"
   ]
  },
  {
   "cell_type": "markdown",
   "id": "b91f775e-41ab-48b5-889e-b0865f206173",
   "metadata": {},
   "source": [
    "Finally, display the table with our cleaned data. Check to make sure the columns have been updated with the punctuation removals. Everything looks good, so we can turn our table into a new CSV file."
   ]
  },
  {
   "cell_type": "code",
   "execution_count": 63,
   "id": "ea7eb541-d9e8-4173-b47c-2c9859526bc8",
   "metadata": {},
   "outputs": [],
   "source": [
    "# display cleaned table\n",
    "df.head()\n",
    "\n",
    "# convert cleaned table into csv format titled \"vegetarian_res_cleaned.csv\"\n",
    "df.to_csv('vegetarian_res_cleaned.csv', mode='a')"
   ]
  },
  {
   "attachments": {
    "c0610ccf-cdb9-43ff-863c-f3ebd82828dd.png": {
     "image/png": "[encoded data removed]"
    }
   },
   "cell_type": "markdown",
   "id": "b9d5ccc5-0bcb-46c6-b188-eeb6993713ad",
   "metadata": {},
   "source": [
    "#### Step 2: Data Visualization and Exploration in Tableau\n",
    "Then, the rest of the columns will be cleaned in Tableau. Other columns deemed unnecessary were deleted by clicking on the dropdown arrow for the column to be deleted, \"Hide\" button as shown in Figure 1 below.\n",
    "\n",
    "![columnhide.png](attachment:c0610ccf-cdb9-43ff-863c-f3ebd82828dd.png)\n",
    "\n",
    "Figure 1. Hiding a column in Tableau. F1 from the cleaned dataset \"vegetarian_res_cleaned.csv\" was hidden in this example."
   ]
  },
  {
   "cell_type": "markdown",
   "id": "c0621ba7-119d-4e4f-8b8d-ada3295c96a5",
   "metadata": {},
   "source": [
    "Then, variables were plotted in various ways to answer the three research questions.\n",
    "\n",
    "For research question 1 (Which cities have the most vegan and vegetarian restaurants?), a series of steps were done in order to analyze "
   ]
  },
  {
   "cell_type": "markdown",
   "id": "f9b35207-296d-4a70-8a44-8a10a3072619",
   "metadata": {},
   "source": [
    "For research question 2 (Which cuisine is most abundant in terms of vegan and vegetarian food options served at restaurants?),"
   ]
  },
  {
   "cell_type": "markdown",
   "id": "a390515e-9f37-4441-a2e9-3134bbf74ca7",
   "metadata": {},
   "source": [
    "For research question 3 (What is the most common menu item in vegan and vegetarian restaurants?),"
   ]
  },
  {
   "cell_type": "markdown",
   "id": "db003983-d59c-447f-9442-1839937bb15e",
   "metadata": {},
   "source": [
    "#### Step 3: Editing Visual Design Choices\n",
    "In order to create an effective visualization, different graphs were used depending on the variables used for the visualization."
   ]
  },
  {
   "cell_type": "markdown",
   "id": "f63ca69e-5e05-4fb7-acb1-0a1fe7abd37f",
   "metadata": {},
   "source": [
    "### Findings\n",
    "\n",
    "The findings from the study are clearly presented and are discussed in detail, and the relationship between the findings and the original research questions or hypotheses is made clear."
   ]
  },
  {
   "cell_type": "markdown",
   "id": "7ee140e0-6f7a-4c9b-8b52-37dd1a2eb1da",
   "metadata": {},
   "source": [
    "### Discussion\n",
    "\n",
    "The implications of the findings are clearly presented and are discussed in detail, along with any limitations of the study or confounding factors that may be relevant to the interpretation or validity (internal and external) of the findings.\n",
    "\n",
    "From the findings, one implication is that more vegan and vegetarian restaurants/food options should be implemented in smaller cities. As seen in the findings, big cities with populations of... have more vegan and vegetarian restaurants and food options than those in smaller cities, which is natural, as bigger cities get more accessibility to foods that accomodate dietary needs, and the larger number of people would mean a greater proportion of people living in that city are vegetarian or vegan. Since the big cities are following on accomodating vegetarian and vegan diets, smaller cities may need more resources and accessbility to vegetarian and vegan options at restaurants in order to get to the same level of options that bigger cities have.\n",
    "\n",
    "Another implication is that it would make sense that Western . Diverse vegan food options in bigger cities, so smaller cities would also need to be accomodated..."
   ]
  },
  {
   "attachments": {
    "88001fa9-f30a-4959-8660-74f5d2c654c1.png": {
     "image/png": "[encoded data removed]"
    }
   },
   "cell_type": "markdown",
   "id": "f4fc0500-694b-473a-9dbf-e934033fc8dc",
   "metadata": {},
   "source": [
    "### Limitations\n",
    "Since this was a data exploration, correlations and causation cannot be drawn from any of the findings. That also means that the results from this exploration cannot be extended to the larger population of all vegetarian and vegan food options in restaurants across the United States. The results from this study should only be viewed as exploratory data that shows the popularity and trends of vegetarian and vegan restaurants and food offerings in the United States.\n",
    "\n",
    "Originally, this exploration was also supposed to answer the question, \"How does the average price range for menu items at vegetarian and vegan restaurants compare to non-vegetarian and vegan restaurants?\" However, visualizing this data in Tableau was difficult, as seen in the pie chart in Figure x below. There were a significant amount of null values that were removed, leaving only 4,359 restaurants to analyze for price ranges, which is only about a quarter of the full dataset. Also, price analysis was removed because this measure was a range rather than average price across menu items, meaning the results would be an estimate of what menu items are priced, making the comparison an estimate rather than an actual meaningful value.\n",
    "\n",
    "![pricepiechart.png](attachment:88001fa9-f30a-4959-8660-74f5d2c654c1.png)\n",
    "\n",
    "Figure x. Restaurant price visualization.\n",
    "\n",
    "Due to time constraints, further research will be done regarding this question at a later time. \n",
    "\n",
    "Another thing this exploration did not cover but intended to was qualitative analysis of vegetarian/vegan restaurants compared to non-vegetarian/vegan restaurants. Future plans involve analyzing factors such as restaurant ratings, and ratings from the vegetarian/vegan restaurant finder website [HappyCow](https://www.happycow.net/) in the form of affinity diagramming or thematic analysis, in order to discover customers' subjective feelings on vegetarian and vegan food options at restaurants."
   ]
  },
  {
   "cell_type": "markdown",
   "id": "ec4269a8-a3cd-4532-954c-781d6da894e5",
   "metadata": {},
   "source": [
    "### Conclusion\n",
    "Overall, this exploration took a look at a variety of restaurants in the United States serving vegetarian and vegan food options in order to answer the three research questions.\n",
    "\n",
    "1. Which cities have the most vegan and vegetarian restaurants?\n",
    "2. Which cuisine is most abundant in terms of vegan and vegetarian food options served at restaurants?\n",
    "3. What is the most common menu item in vegan and vegetarian restaurants?\n",
    "\n",
    "The results are...\n",
    "1. New York has the most vegan and vegetarian restaurants coming in at x restaurants specifically.\n",
    "2. Western cuisine is most abundant in terms of vegan and vegetarian food options at restaurants in the United States.\n",
    "3. The most common menu item in vegan and vegetarian restaurants in the United States is \"pizza.\"\n",
    "\n",
    "While many restaurants have vegetarian and vegan options, there is still a lot of work to be done in researching how customers truly feel about these food options. Nonetheless, the current abundance of vegetarian and vegan dishes and vegetarian/vegan restaurants in the United States as seen in this data exploration is likely to please both non-vegetarians/vegans and vegetarians/vegans alike, and hopefully we see an increase in plant-based offerings at restaurants in the United States and around the world in the future."
   ]
  },
  {
   "cell_type": "markdown",
   "id": "8a8edaa5-a624-4914-a9d9-21ada4e77c6a",
   "metadata": {},
   "source": [
    "### References\n",
    "\n",
    "https://realpython.com/python-data-cleaning-numpy-pandas/\n",
    "\n",
    "https://towardsdatascience.com/remove-punctuation-pandas-3e461efe9584"
   ]
  }
 ],
 "metadata": {
  "kernelspec": {
   "display_name": "Python 3 (ipykernel)",
   "language": "python",
   "name": "python3"
  },
  "language_info": {
   "codemirror_mode": {
    "name": "ipython",
    "version": 3
   },
   "file_extension": ".py",
   "mimetype": "text/x-python",
   "name": "python",
   "nbconvert_exporter": "python",
   "pygments_lexer": "ipython3",
   "version": "3.9.7"
  }
 },
 "nbformat": 4,
 "nbformat_minor": 5
}
